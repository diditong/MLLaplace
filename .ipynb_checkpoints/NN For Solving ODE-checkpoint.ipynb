{
 "cells": [
  {
   "cell_type": "code",
   "execution_count": 1,
   "metadata": {},
   "outputs": [],
   "source": [
    "import tensorflow as tf\n",
    "import numpy as np\n",
    "%load_ext tensorboard.notebook"
   ]
  },
  {
   "cell_type": "code",
   "execution_count": 2,
   "metadata": {},
   "outputs": [],
   "source": [
    "A = 1\n",
    "N = 200\n",
    "epochs = 500\n",
    "batch_size = 40\n",
    "xdata = np.arange(0, 1, 1/N).reshape((N,1))"
   ]
  },
  {
   "cell_type": "code",
   "execution_count": 3,
   "metadata": {},
   "outputs": [],
   "source": [
    "def get_batch(data, size):\n",
    "    duration = len(data)\n",
    "    for i in range(0,duration//size):\n",
    "        idx = i*size + np.random.randint(0,10,(1))[0]\n",
    "        yield data[idx:idx+size]"
   ]
  },
  {
   "cell_type": "code",
   "execution_count": 4,
   "metadata": {},
   "outputs": [
    {
     "name": "stdout",
     "output_type": "stream",
     "text": [
      "WARNING:tensorflow:From C:\\Anaconda\\lib\\site-packages\\tensorflow\\python\\framework\\op_def_library.py:263: colocate_with (from tensorflow.python.framework.ops) is deprecated and will be removed in a future version.\n",
      "Instructions for updating:\n",
      "Colocations handled automatically by placer.\n",
      "WARNING:tensorflow:From C:\\Anaconda\\lib\\site-packages\\tensorflow\\python\\ops\\math_ops.py:3066: to_int32 (from tensorflow.python.ops.math_ops) is deprecated and will be removed in a future version.\n",
      "Instructions for updating:\n",
      "Use tf.cast instead.\n",
      "Epoch 0 completed out of 500 with a loss of  7.9196787\n",
      "Epoch 10 completed out of 500 with a loss of  0.05262424\n",
      "Epoch 20 completed out of 500 with a loss of  0.052244257\n",
      "Epoch 30 completed out of 500 with a loss of  0.026773453\n",
      "Epoch 40 completed out of 500 with a loss of  0.027225545\n",
      "Epoch 50 completed out of 500 with a loss of  0.025589934\n",
      "Epoch 60 completed out of 500 with a loss of  0.0010653948\n",
      "Epoch 70 completed out of 500 with a loss of  0.0008616719\n",
      "Epoch 80 completed out of 500 with a loss of  0.0013456984\n",
      "Epoch 90 completed out of 500 with a loss of  0.002081343\n",
      "Epoch 100 completed out of 500 with a loss of  0.001700962\n",
      "Epoch 110 completed out of 500 with a loss of  0.0015759509\n",
      "Epoch 120 completed out of 500 with a loss of  0.0067242426\n",
      "Epoch 130 completed out of 500 with a loss of  0.006490491\n",
      "Epoch 140 completed out of 500 with a loss of  0.007109076\n",
      "Epoch 150 completed out of 500 with a loss of  0.005558318\n",
      "Epoch 160 completed out of 500 with a loss of  0.0040739393\n",
      "Epoch 170 completed out of 500 with a loss of  0.026687086\n",
      "Epoch 180 completed out of 500 with a loss of  0.0021925108\n",
      "Epoch 190 completed out of 500 with a loss of  0.0020313608\n",
      "Epoch 200 completed out of 500 with a loss of  0.014221805\n",
      "Epoch 210 completed out of 500 with a loss of  0.019394629\n",
      "Epoch 220 completed out of 500 with a loss of  0.021716371\n",
      "Epoch 230 completed out of 500 with a loss of  0.014669621\n",
      "Epoch 240 completed out of 500 with a loss of  0.015605463\n",
      "Epoch 250 completed out of 500 with a loss of  0.012203125\n",
      "Epoch 260 completed out of 500 with a loss of  0.0017112407\n",
      "Epoch 270 completed out of 500 with a loss of  0.033309303\n",
      "Epoch 280 completed out of 500 with a loss of  0.072697885\n",
      "Epoch 290 completed out of 500 with a loss of  0.030095574\n",
      "Epoch 300 completed out of 500 with a loss of  0.028785389\n",
      "Epoch 310 completed out of 500 with a loss of  0.019159095\n",
      "Epoch 320 completed out of 500 with a loss of  0.0068031177\n",
      "Epoch 330 completed out of 500 with a loss of  0.021427102\n",
      "Epoch 340 completed out of 500 with a loss of  0.07582929\n",
      "Epoch 350 completed out of 500 with a loss of  0.048362046\n",
      "Epoch 360 completed out of 500 with a loss of  0.015733233\n",
      "Epoch 370 completed out of 500 with a loss of  0.0036377565\n",
      "Epoch 380 completed out of 500 with a loss of  0.00048528088\n",
      "Epoch 390 completed out of 500 with a loss of  0.0005064884\n",
      "Epoch 400 completed out of 500 with a loss of  0.0004203003\n",
      "Epoch 410 completed out of 500 with a loss of  0.00038381762\n",
      "Epoch 420 completed out of 500 with a loss of  0.0006173262\n",
      "Epoch 430 completed out of 500 with a loss of  0.00029477026\n",
      "Epoch 440 completed out of 500 with a loss of  0.00023695598\n",
      "Epoch 450 completed out of 500 with a loss of  0.0005269242\n",
      "Epoch 460 completed out of 500 with a loss of  0.0002430101\n",
      "Epoch 470 completed out of 500 with a loss of  0.00022612858\n",
      "Epoch 480 completed out of 500 with a loss of  0.00027895026\n",
      "Epoch 490 completed out of 500 with a loss of  0.00021382426\n"
     ]
    },
    {
     "ename": "TypeError",
     "evalue": "save() missing 1 required positional argument: 'save_path'",
     "output_type": "error",
     "traceback": [
      "\u001b[1;31m---------------------------------------------------------------------------\u001b[0m",
      "\u001b[1;31mTypeError\u001b[0m                                 Traceback (most recent call last)",
      "\u001b[1;32m<ipython-input-4-47b61b399723>\u001b[0m in \u001b[0;36m<module>\u001b[1;34m\u001b[0m\n\u001b[0;32m     27\u001b[0m         \u001b[1;32mif\u001b[0m \u001b[1;33m(\u001b[0m\u001b[0mepoch\u001b[0m\u001b[1;33m%\u001b[0m\u001b[1;36m10\u001b[0m \u001b[1;33m==\u001b[0m \u001b[1;36m0\u001b[0m\u001b[1;33m)\u001b[0m\u001b[1;33m:\u001b[0m\u001b[1;33m\u001b[0m\u001b[1;33m\u001b[0m\u001b[0m\n\u001b[0;32m     28\u001b[0m             \u001b[0mprint\u001b[0m\u001b[1;33m(\u001b[0m\u001b[1;34m'Epoch'\u001b[0m\u001b[1;33m,\u001b[0m \u001b[0mepoch\u001b[0m\u001b[1;33m,\u001b[0m \u001b[1;34m'completed out of'\u001b[0m\u001b[1;33m,\u001b[0m \u001b[0mepochs\u001b[0m\u001b[1;33m,\u001b[0m \u001b[1;34m'with a loss of '\u001b[0m\u001b[1;33m,\u001b[0m \u001b[0mloss\u001b[0m\u001b[1;33m)\u001b[0m\u001b[1;33m\u001b[0m\u001b[1;33m\u001b[0m\u001b[0m\n\u001b[1;32m---> 29\u001b[1;33m     \u001b[0msave_path\u001b[0m \u001b[1;33m=\u001b[0m \u001b[0mtf\u001b[0m\u001b[1;33m.\u001b[0m\u001b[0mtrain\u001b[0m\u001b[1;33m.\u001b[0m\u001b[0mSaver\u001b[0m\u001b[1;33m.\u001b[0m\u001b[0msave\u001b[0m\u001b[1;33m(\u001b[0m\u001b[0msess\u001b[0m\u001b[1;33m,\u001b[0m \u001b[1;34m\"./PDEPredictor.ckpt\"\u001b[0m\u001b[1;33m)\u001b[0m\u001b[1;33m\u001b[0m\u001b[1;33m\u001b[0m\u001b[0m\n\u001b[0m\u001b[0;32m     30\u001b[0m     \u001b[0mprint\u001b[0m\u001b[1;33m(\u001b[0m\u001b[1;34m\"Model saved in path: %s\"\u001b[0m \u001b[1;33m%\u001b[0m \u001b[0msave_path\u001b[0m\u001b[1;33m)\u001b[0m\u001b[1;33m\u001b[0m\u001b[1;33m\u001b[0m\u001b[0m\n",
      "\u001b[1;31mTypeError\u001b[0m: save() missing 1 required positional argument: 'save_path'"
     ]
    }
   ],
   "source": [
    "X = tf.placeholder(float, [None, 1], name='input')\n",
    "\n",
    "weights = {\n",
    "    'h1': tf.Variable(tf.random_normal([1,100])),\n",
    "    'wout': tf.Variable(tf.random_normal([100,1]))\n",
    "}\n",
    "biases = {\n",
    "    'b1': tf.Variable(tf.random_normal([100])),\n",
    "    'bout': tf.Variable(tf.random_normal([1]))\n",
    "}\n",
    "\n",
    "layer1 = tf.add(tf.matmul(X, weights['h1']), biases['b1'])\n",
    "layer1 = tf.nn.leaky_relu(layer1)   \n",
    "Ypred = tf.add(tf.matmul(layer1, weights['wout']), biases['bout'])\n",
    "\n",
    "cost = tf.reduce_mean(tf.square( (A+X*Ypred)-(Ypred+X*tf.gradients(Ypred,X)) ))\n",
    "optimizer = tf.train.AdamOptimizer(learning_rate=0.001).minimize(cost)\n",
    "\n",
    "with tf.Session() as sess:\n",
    "    sess.run(tf.global_variables_initializer())\n",
    "    for epoch in range(epochs):\n",
    "        epoch_loss = 0\n",
    "        for step in range(N//batch_size):\n",
    "            for inputX in get_batch(xdata, batch_size):\n",
    "                _, loss = sess.run([optimizer, cost], feed_dict={X:inputX})\n",
    "                epoch_loss += loss\n",
    "        if (epoch%10 == 0):\n",
    "            print('Epoch', epoch, 'completed out of', epochs, 'with a loss of ', loss)\n",
    "    tf.train.Saver.save(sess, \"PDEPredictor.ckpt\")\n",
    "    print(\"Model saved in path\")"
   ]
  },
  {
   "cell_type": "code",
   "execution_count": null,
   "metadata": {},
   "outputs": [],
   "source": [
    "sess.run([Ypred],feed_dict={X:0.2})"
   ]
  }
 ],
 "metadata": {
  "kernelspec": {
   "display_name": "Python 3",
   "language": "python",
   "name": "python3"
  },
  "language_info": {
   "codemirror_mode": {
    "name": "ipython",
    "version": 3
   },
   "file_extension": ".py",
   "mimetype": "text/x-python",
   "name": "python",
   "nbconvert_exporter": "python",
   "pygments_lexer": "ipython3",
   "version": "3.7.3"
  }
 },
 "nbformat": 4,
 "nbformat_minor": 2
}
