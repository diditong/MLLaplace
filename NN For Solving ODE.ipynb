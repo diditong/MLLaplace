{
 "cells": [
  {
   "cell_type": "code",
   "execution_count": 1,
   "metadata": {},
   "outputs": [],
   "source": [
    "import tensorflow as tf\n",
    "import numpy as np\n",
    "import matplotlib.pyplot as plt\n",
    "%load_ext tensorboard.notebook"
   ]
  },
  {
   "cell_type": "code",
   "execution_count": 2,
   "metadata": {},
   "outputs": [],
   "source": [
    "N = 100\n",
    "epochs = 200\n",
    "batch_size = 20\n",
    "Xdata = np.arange(0, 1, 1/N).reshape((N,1))"
   ]
  },
  {
   "cell_type": "code",
   "execution_count": 3,
   "metadata": {},
   "outputs": [],
   "source": [
    "def get_batch(data, size):\n",
    "    duration = len(data)\n",
    "    for i in range(0,duration//size):\n",
    "        idx = i*size + np.random.randint(0,10,(1))[0]\n",
    "        yield data[idx:idx+size]"
   ]
  },
  {
   "cell_type": "code",
   "execution_count": 4,
   "metadata": {},
   "outputs": [
    {
     "name": "stdout",
     "output_type": "stream",
     "text": [
      "WARNING:tensorflow:From C:\\Anaconda\\lib\\site-packages\\tensorflow\\python\\framework\\op_def_library.py:263: colocate_with (from tensorflow.python.framework.ops) is deprecated and will be removed in a future version.\n",
      "Instructions for updating:\n",
      "Colocations handled automatically by placer.\n",
      "WARNING:tensorflow:From C:\\Anaconda\\lib\\site-packages\\tensorflow\\python\\ops\\math_ops.py:3066: to_int32 (from tensorflow.python.ops.math_ops) is deprecated and will be removed in a future version.\n",
      "Instructions for updating:\n",
      "Use tf.cast instead.\n",
      "Epoch 0 completed out of 200 with a loss of  1805.9622\n",
      "Epoch 10 completed out of 200 with a loss of  10.754454\n",
      "Epoch 20 completed out of 200 with a loss of  2.001671\n",
      "Epoch 30 completed out of 200 with a loss of  0.0016238978\n",
      "Epoch 40 completed out of 200 with a loss of  0.09949043\n",
      "Epoch 50 completed out of 200 with a loss of  0.039999522\n",
      "Epoch 60 completed out of 200 with a loss of  0.03717178\n",
      "Epoch 70 completed out of 200 with a loss of  0.07493901\n",
      "Epoch 80 completed out of 200 with a loss of  0.034697376\n",
      "Epoch 90 completed out of 200 with a loss of  0.037209913\n",
      "Epoch 100 completed out of 200 with a loss of  0.015638804\n",
      "Epoch 110 completed out of 200 with a loss of  0.016387913\n",
      "Epoch 120 completed out of 200 with a loss of  0.029046828\n",
      "Epoch 130 completed out of 200 with a loss of  0.024972826\n",
      "Epoch 140 completed out of 200 with a loss of  0.024389047\n",
      "Epoch 150 completed out of 200 with a loss of  0.03083004\n",
      "Epoch 160 completed out of 200 with a loss of  0.043609276\n",
      "Epoch 170 completed out of 200 with a loss of  0.02360632\n",
      "Epoch 180 completed out of 200 with a loss of  0.009555933\n",
      "Epoch 190 completed out of 200 with a loss of  0.023183234\n"
     ]
    }
   ],
   "source": [
    "X = tf.placeholder(float, [None, 1], name='input')\n",
    "\n",
    "weights = {\n",
    "    'h1': tf.Variable(tf.random_normal([1,100])),\n",
    "    'wout': tf.Variable(tf.random_normal([100,1]))\n",
    "}\n",
    "biases = {\n",
    "    'b1': tf.Variable(tf.random_normal([100])),\n",
    "    'bout': tf.Variable(tf.random_normal([1]))\n",
    "}\n",
    "\n",
    "layer1 = tf.add(tf.matmul(X, weights['h1']), biases['b1'])\n",
    "layer1 = tf.nn.sigmoid(layer1)\n",
    "Nout = tf.add(tf.matmul(layer1, weights['wout']), biases['bout'])\n",
    "dNdX = tf.gradients(Nout,X)\n",
    "d2NdX2 = tf.gradients(tf.gradients(Nout,X),X)\n",
    "#cost = tf.reduce_mean(tf.square( (A+X*Ypred)-(Ypred+X*tf.gradients(Ypred,X)) ))\n",
    "cost = tf.reduce_mean(tf.square( (2*Nout+4*X*dNdX+X*X*d2NdX2+X+X*X*Nout) ))\n",
    "optimizer = tf.train.AdamOptimizer(learning_rate=0.0001).minimize(cost)\n",
    "\n",
    "\n",
    "with tf.Session() as sess:\n",
    "    sess.run(tf.global_variables_initializer())\n",
    "    for epoch in range(epochs):\n",
    "        epoch_loss = 0\n",
    "        for step in range(N//batch_size):\n",
    "            for inputX in get_batch(Xdata, batch_size):\n",
    "                _, loss = sess.run([optimizer, cost], feed_dict={X:inputX})\n",
    "                epoch_loss += loss\n",
    "        if (epoch%10 == 0):\n",
    "            print('Epoch', epoch, 'completed out of', epochs, 'with a loss of ', loss)\n",
    "\n",
    "    saver = tf.train.Saver()\n",
    "    saver.save(sess, 'my_test_model')"
   ]
  },
  {
   "cell_type": "code",
   "execution_count": 5,
   "metadata": {},
   "outputs": [
    {
     "name": "stdout",
     "output_type": "stream",
     "text": [
      "WARNING:tensorflow:From C:\\Anaconda\\lib\\site-packages\\tensorflow\\python\\training\\saver.py:1266: checkpoint_exists (from tensorflow.python.training.checkpoint_management) is deprecated and will be removed in a future version.\n",
      "Instructions for updating:\n",
      "Use standard file APIs to check for files with this prefix.\n",
      "INFO:tensorflow:Restoring parameters from my_test_model\n",
      "Model restored.\n"
     ]
    }
   ],
   "source": [
    "# Later, launch the model, use the saver to restore variables from disk, and\n",
    "# do some work with the model.\n",
    "with tf.Session() as sess:\n",
    "  # Restore variables from disk.\n",
    "    saver.restore(sess, \"my_test_model\")\n",
    "    print(\"Model restored.\")\n",
    "    xtest = np.arange(0, np.pi, 1/200).reshape((629,1))\n",
    "    Y = sess.run([Nout], feed_dict={X:xtest})\n",
    "    Y = np.asarray(Y)[0]\n",
    "    #Compute Artificial Neural Network solution\n",
    "    ANNSoln = xtest + xtest*xtest*Y\n",
    "    #Compute exact solution\n",
    "    exactSoln = np.sin(xtest)"
   ]
  },
  {
   "cell_type": "code",
   "execution_count": 6,
   "metadata": {
    "scrolled": true
   },
   "outputs": [
    {
     "data": {
      "text/plain": [
       "Text(0.5, 1.0, 'ANN Solution V.S. Exact Solution')"
      ]
     },
     "execution_count": 6,
     "metadata": {},
     "output_type": "execute_result"
    },
    {
     "data": {
      "image/png": "[encoded data removed]",
      "text/plain": [
       "<Figure size 432x288 with 1 Axes>"
      ]
     },
     "metadata": {
      "needs_background": "light"
     },
     "output_type": "display_data"
    }
   ],
   "source": [
    "# Create Figure (empty canvas)\n",
    "fig = plt.figure()\n",
    "\n",
    "# Add set of axes to figure\n",
    "axes = fig.add_axes([1, 1, 1, 1]) # left, bottom, width, height (range 0 to 1)\n",
    "\n",
    "# Plot on that set of axes\n",
    "axes.plot(xtest, ANNSoln, 'b',label=\"ANN Soln.\")\n",
    "axes.plot(xtest, exactSoln, 'r',label=\"Exact Soln.\")\n",
    "axes.legend()\n",
    "axes.set_xlabel('x')\n",
    "axes.set_ylabel('y')\n",
    "axes.set_title('ANN Solution V.S. Exact Solution')"
   ]
  }
 ],
 "metadata": {
  "kernelspec": {
   "display_name": "Python 3",
   "language": "python",
   "name": "python3"
  },
  "language_info": {
   "codemirror_mode": {
    "name": "ipython",
    "version": 3
   },
   "file_extension": ".py",
   "mimetype": "text/x-python",
   "name": "python",
   "nbconvert_exporter": "python",
   "pygments_lexer": "ipython3",
   "version": "3.7.3"
  }
 },
 "nbformat": 4,
 "nbformat_minor": 2
}
